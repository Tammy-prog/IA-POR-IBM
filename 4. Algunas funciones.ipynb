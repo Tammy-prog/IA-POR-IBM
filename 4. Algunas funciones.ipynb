{
 "cells": [
  {
   "cell_type": "markdown",
   "id": "c0d0fbcc-b8bf-40a9-8fab-19b466fb43f7",
   "metadata": {},
   "source": [
    "Funcion range() --- generador de números"
   ]
  },
  {
   "cell_type": "code",
   "execution_count": 1,
   "id": "c0c65659-b6fa-4e49-977e-e66b88b37d4e",
   "metadata": {},
   "outputs": [
    {
     "data": {
      "text/plain": [
       "[0, 1, 2, 3, 4]"
      ]
     },
     "execution_count": 1,
     "metadata": {},
     "output_type": "execute_result"
    }
   ],
   "source": [
    "list(range(0,5))"
   ]
  },
  {
   "cell_type": "code",
   "execution_count": 2,
   "id": "0775746f-ef38-4527-ad69-fb37316afc64",
   "metadata": {},
   "outputs": [
    {
     "data": {
      "text/plain": [
       "[0, 1, 2, 3, 4, 5, 6, 7, 8, 9, 10, 11, 12, 13, 14, 15, 16, 17, 18, 19]"
      ]
     },
     "execution_count": 2,
     "metadata": {},
     "output_type": "execute_result"
    }
   ],
   "source": [
    "list(range(0,20))"
   ]
  },
  {
   "cell_type": "code",
   "execution_count": 3,
   "id": "8b87479c-f8d7-45db-9a53-fe3b8cd51a1d",
   "metadata": {},
   "outputs": [
    {
     "name": "stdout",
     "output_type": "stream",
     "text": [
      "0\n",
      "1\n",
      "2\n",
      "3\n"
     ]
    }
   ],
   "source": [
    "for x in range(0,4):\n",
    "    print(x)"
   ]
  },
  {
   "cell_type": "markdown",
   "id": "db4442d7-8359-487c-b65c-b705b0a1e4ec",
   "metadata": {},
   "source": [
    "Compresiones de lista: crear una lista a partir de otra"
   ]
  },
  {
   "cell_type": "code",
   "execution_count": 5,
   "id": "11990c40-12c6-4a53-ab62-3dd4a7293e60",
   "metadata": {},
   "outputs": [
    {
     "name": "stdout",
     "output_type": "stream",
     "text": [
      "[2, 4, 6, 8, 10]\n"
     ]
    }
   ],
   "source": [
    "lista1 = [1,2,3,4,5]\n",
    "lista2 = []\n",
    "for numero in lista1:\n",
    "    valor = numero*2\n",
    "    lista2.append(valor)\n",
    "print(lista2)"
   ]
  },
  {
   "cell_type": "code",
   "execution_count": 9,
   "id": "08b3e4fd-6ada-479a-9dc5-08d33ef713e8",
   "metadata": {},
   "outputs": [],
   "source": [
    "# Todo esto podemos hacerlo en 1 sola línea con las compresiones de listas\n",
    "lista1 = [1,2,3,4,5]\n",
    "lista3 = [numero*2 for numero in lista1]"
   ]
  },
  {
   "cell_type": "code",
   "execution_count": 10,
   "id": "50a94261-a13f-4c10-adef-311ba266f792",
   "metadata": {},
   "outputs": [
    {
     "data": {
      "text/plain": [
       "[2, 4, 6, 8, 10]"
      ]
     },
     "execution_count": 10,
     "metadata": {},
     "output_type": "execute_result"
    }
   ],
   "source": [
    "lista3"
   ]
  },
  {
   "cell_type": "markdown",
   "id": "7681887f-4545-4c31-a233-2010005f2fcd",
   "metadata": {},
   "source": [
    "Funciones: una función en Python es una agrupación de código que permite reutilizarlo. Lo codificamos 1 sola vez\n",
    "y lo usamos siempre que lo necesitemos"
   ]
  },
  {
   "cell_type": "code",
   "execution_count": 11,
   "id": "cc7fa0b0-a3c9-4ab2-8cf9-35a169c851d1",
   "metadata": {},
   "outputs": [],
   "source": [
    "def funcion ():\n",
    "    print (\"Hola\")"
   ]
  },
  {
   "cell_type": "code",
   "execution_count": 12,
   "id": "af32325f-c9be-43e6-8212-b82bbb6c3dc5",
   "metadata": {},
   "outputs": [
    {
     "name": "stdout",
     "output_type": "stream",
     "text": [
      "Hola\n"
     ]
    }
   ],
   "source": [
    "funcion()"
   ]
  },
  {
   "cell_type": "code",
   "execution_count": 13,
   "id": "a0b83263-3a54-49f2-8887-c02acebb9bc3",
   "metadata": {},
   "outputs": [
    {
     "name": "stdout",
     "output_type": "stream",
     "text": [
      "Buenos dias Tamara\n"
     ]
    }
   ],
   "source": [
    "def saludar(nombre):\n",
    "    print (\"Buenos dias \"+nombre)\n",
    "saludar(\"Tamara\")"
   ]
  },
  {
   "cell_type": "code",
   "execution_count": 15,
   "id": "f3cb3d37-5b8b-4105-83b9-df43e08c8e12",
   "metadata": {},
   "outputs": [],
   "source": [
    "def sumar (num1, num2):\n",
    "    res= num1+num2\n",
    "    return res"
   ]
  },
  {
   "cell_type": "code",
   "execution_count": 16,
   "id": "3a1d7c4c-adf6-4111-8ce1-448977b2d0c9",
   "metadata": {},
   "outputs": [
    {
     "data": {
      "text/plain": [
       "8"
      ]
     },
     "execution_count": 16,
     "metadata": {},
     "output_type": "execute_result"
    }
   ],
   "source": [
    "sumar(5,3)"
   ]
  },
  {
   "cell_type": "markdown",
   "id": "8b853cc4-e252-4e04-b136-0a9643a33bd1",
   "metadata": {},
   "source": [
    "Funcion map()"
   ]
  },
  {
   "cell_type": "code",
   "execution_count": 1,
   "id": "dda71781-849a-4416-b6f0-22a9a3a36e83",
   "metadata": {},
   "outputs": [],
   "source": [
    "def multiplicar (num):\n",
    "    return num*2\n"
   ]
  },
  {
   "cell_type": "code",
   "execution_count": 2,
   "id": "6c215f4a-52f9-42c4-abf9-d83def51417d",
   "metadata": {},
   "outputs": [
    {
     "data": {
      "text/plain": [
       "10"
      ]
     },
     "execution_count": 2,
     "metadata": {},
     "output_type": "execute_result"
    }
   ],
   "source": [
    "multiplicar(5)"
   ]
  },
  {
   "cell_type": "code",
   "execution_count": 3,
   "id": "a7222a82-43b5-4432-9c96-b4d1d832699f",
   "metadata": {},
   "outputs": [
    {
     "data": {
      "text/plain": [
       "[1, 2, 3, 4, 5, 1, 2, 3, 4, 5]"
      ]
     },
     "execution_count": 3,
     "metadata": {},
     "output_type": "execute_result"
    }
   ],
   "source": [
    "lista = [1,2,3,4,5]\n",
    "multiplicar(lista)"
   ]
  },
  {
   "cell_type": "code",
   "execution_count": 6,
   "id": "960000d9-0413-4156-a118-21ebf8778e02",
   "metadata": {},
   "outputs": [],
   "source": [
    "lista2 = list(map(multiplicar, lista))"
   ]
  },
  {
   "cell_type": "code",
   "execution_count": 7,
   "id": "64319258-507d-4a56-8441-87435b6eb949",
   "metadata": {},
   "outputs": [
    {
     "data": {
      "text/plain": [
       "[2, 4, 6, 8, 10]"
      ]
     },
     "execution_count": 7,
     "metadata": {},
     "output_type": "execute_result"
    }
   ],
   "source": [
    "lista2"
   ]
  },
  {
   "cell_type": "markdown",
   "id": "a3a510f9-778e-43f5-9da3-8715aa228507",
   "metadata": {},
   "source": [
    "Funcion lambda: es unna función anónima, sin nombre, que se usa para simplificar el código"
   ]
  },
  {
   "cell_type": "code",
   "execution_count": 8,
   "id": "14825f73-5785-4f2a-9a23-d83e77c6ec1d",
   "metadata": {},
   "outputs": [],
   "source": [
    "def multiplicar (num):\n",
    "    return num*2"
   ]
  },
  {
   "cell_type": "code",
   "execution_count": 9,
   "id": "01525d5c-dfc2-489d-9200-c4ea6c02093b",
   "metadata": {},
   "outputs": [
    {
     "data": {
      "text/plain": [
       "10"
      ]
     },
     "execution_count": 9,
     "metadata": {},
     "output_type": "execute_result"
    }
   ],
   "source": [
    "multiplicar(5)"
   ]
  },
  {
   "cell_type": "code",
   "execution_count": 10,
   "id": "94202afa-2371-4879-8188-461bc33ed325",
   "metadata": {},
   "outputs": [
    {
     "data": {
      "text/plain": [
       "[2, 4, 6, 8, 10]"
      ]
     },
     "execution_count": 10,
     "metadata": {},
     "output_type": "execute_result"
    }
   ],
   "source": [
    "lista = [1,2,3,4,5]\n",
    "lista2 = list(map(multiplicar, lista))\n",
    "lista2"
   ]
  },
  {
   "cell_type": "code",
   "execution_count": 11,
   "id": "aff5a974-812a-478e-b280-56c90c044bdb",
   "metadata": {},
   "outputs": [
    {
     "data": {
      "text/plain": [
       "[2, 4, 6, 8, 10]"
      ]
     },
     "execution_count": 11,
     "metadata": {},
     "output_type": "execute_result"
    }
   ],
   "source": [
    "lista = [1,2,3,4,5]\n",
    "lista3 = list(map(lambda numero: numero*2, lista))\n",
    "lista3"
   ]
  },
  {
   "cell_type": "markdown",
   "id": "12b3e11b-ae47-44a4-ab3f-8582d3f6be03",
   "metadata": {},
   "source": [
    "Función filter()"
   ]
  },
  {
   "cell_type": "code",
   "execution_count": 1,
   "id": "0f653db1-e9af-4124-ba74-0692ca510024",
   "metadata": {},
   "outputs": [],
   "source": [
    "def pares(numero):\n",
    "    if (numero%2==0):\n",
    "        return numero"
   ]
  },
  {
   "cell_type": "code",
   "execution_count": 2,
   "id": "15ca47fb-2781-42e2-95c6-7113131e3fed",
   "metadata": {},
   "outputs": [],
   "source": [
    "pares(5)"
   ]
  },
  {
   "cell_type": "code",
   "execution_count": 3,
   "id": "875d7dd8-d6fd-4e50-851b-7b57c712a411",
   "metadata": {},
   "outputs": [
    {
     "data": {
      "text/plain": [
       "4"
      ]
     },
     "execution_count": 3,
     "metadata": {},
     "output_type": "execute_result"
    }
   ],
   "source": [
    "pares(4)"
   ]
  },
  {
   "cell_type": "code",
   "execution_count": 6,
   "id": "56ff8b30-0f8e-4b0d-9c3d-11d01907cfd5",
   "metadata": {},
   "outputs": [
    {
     "data": {
      "text/plain": [
       "[2, 4, 6]"
      ]
     },
     "execution_count": 6,
     "metadata": {},
     "output_type": "execute_result"
    }
   ],
   "source": [
    "list1 =[1,2,3,4,5,6,7]\n",
    "lista_pares = list(filter(pares, list1))\n",
    "lista_pares"
   ]
  },
  {
   "cell_type": "code",
   "execution_count": 8,
   "id": "8c2797ae-3725-4202-b7b9-1742028bd386",
   "metadata": {},
   "outputs": [
    {
     "data": {
      "text/plain": [
       "[2, 4, 6]"
      ]
     },
     "execution_count": 8,
     "metadata": {},
     "output_type": "execute_result"
    }
   ],
   "source": [
    "# esto mismo se puede hacer con una función  lambda, sin tener que creesr la función pares\n",
    "list1 =[1,2,3,4,5,6,7]\n",
    "lista_pares_lambda = list(filter(lambda numero:numero%2==0, list1))\n",
    "lista_pares_lambda"
   ]
  },
  {
   "cell_type": "markdown",
   "id": "cca7ea9e-6773-495e-96fe-21442235b807",
   "metadata": {},
   "source": [
    "Funciones de cadenas de caracteres"
   ]
  },
  {
   "cell_type": "code",
   "execution_count": 9,
   "id": "28262917-ae3a-49aa-ae2c-e86e217738e2",
   "metadata": {},
   "outputs": [],
   "source": [
    "cadena = \"Hola buenos días, me llamo Tamara\""
   ]
  },
  {
   "cell_type": "code",
   "execution_count": 10,
   "id": "631ee272-74dc-4068-b4dd-c02bd68ad447",
   "metadata": {},
   "outputs": [
    {
     "data": {
      "text/plain": [
       "'Hola buenos días, me llamo Tamara'"
      ]
     },
     "execution_count": 10,
     "metadata": {},
     "output_type": "execute_result"
    }
   ],
   "source": [
    "cadena"
   ]
  },
  {
   "cell_type": "code",
   "execution_count": 11,
   "id": "dd6d5d3c-1f1e-4c35-9959-d6a4428f243f",
   "metadata": {},
   "outputs": [
    {
     "data": {
      "text/plain": [
       "'HOLA BUENOS DÍAS, ME LLAMO TAMARA'"
      ]
     },
     "execution_count": 11,
     "metadata": {},
     "output_type": "execute_result"
    }
   ],
   "source": [
    "cadena.upper()"
   ]
  },
  {
   "cell_type": "code",
   "execution_count": 12,
   "id": "6283dac6-ecf0-40dc-ab1d-d6a7ea403d74",
   "metadata": {},
   "outputs": [
    {
     "data": {
      "text/plain": [
       "'Hola buenos días, me llamo Tamara'"
      ]
     },
     "execution_count": 12,
     "metadata": {},
     "output_type": "execute_result"
    }
   ],
   "source": [
    "cadena"
   ]
  },
  {
   "cell_type": "code",
   "execution_count": 13,
   "id": "8f9b22a0-ef07-42dd-a1f2-1159d5b20ff3",
   "metadata": {},
   "outputs": [],
   "source": [
    "cadena_mayuscula = cadena.upper()"
   ]
  },
  {
   "cell_type": "code",
   "execution_count": 14,
   "id": "1e3382ed-e16b-41a9-92ee-d44f4c9b8971",
   "metadata": {},
   "outputs": [
    {
     "data": {
      "text/plain": [
       "'HOLA BUENOS DÍAS, ME LLAMO TAMARA'"
      ]
     },
     "execution_count": 14,
     "metadata": {},
     "output_type": "execute_result"
    }
   ],
   "source": [
    "cadena_mayuscula"
   ]
  },
  {
   "cell_type": "code",
   "execution_count": 15,
   "id": "3afe482e-1d98-49c0-916a-33e96f38fdb6",
   "metadata": {},
   "outputs": [
    {
     "data": {
      "text/plain": [
       "'hola buenos días, me llamo tamara'"
      ]
     },
     "execution_count": 15,
     "metadata": {},
     "output_type": "execute_result"
    }
   ],
   "source": [
    "#Para ponerlo todo en minúscula\n",
    "cadena.lower()"
   ]
  },
  {
   "cell_type": "code",
   "execution_count": 16,
   "id": "33bfade5-0fcf-4e6c-bf8e-3564fd6bfa51",
   "metadata": {},
   "outputs": [
    {
     "data": {
      "text/plain": [
       "['Hola', 'buenos', 'días,', 'me', 'llamo', 'Tamara']"
      ]
     },
     "execution_count": 16,
     "metadata": {},
     "output_type": "execute_result"
    }
   ],
   "source": [
    "#Dividimos la cadena\n",
    "cadena.split()"
   ]
  },
  {
   "cell_type": "code",
   "execution_count": 17,
   "id": "1e673dc1-5c41-4845-a4eb-9b2ebaf9e56c",
   "metadata": {},
   "outputs": [
    {
     "data": {
      "text/plain": [
       "['Hola buenos días', ' me llamo Tamara']"
      ]
     },
     "execution_count": 17,
     "metadata": {},
     "output_type": "execute_result"
    }
   ],
   "source": [
    "#Podemos especificar por qué elemento queremos que se divida la cadena, en este caso vamos a poner la coma\n",
    "cadena.split(\",\")"
   ]
  },
  {
   "cell_type": "code",
   "execution_count": 18,
   "id": "3e06cc1d-2993-437a-bdf1-dfe53bbb96d3",
   "metadata": {},
   "outputs": [
    {
     "data": {
      "text/plain": [
       "'Hola buenos días'"
      ]
     },
     "execution_count": 18,
     "metadata": {},
     "output_type": "execute_result"
    }
   ],
   "source": [
    "#Para acceder a los elementos\n",
    "cadena.split(\",\")[0]"
   ]
  },
  {
   "cell_type": "code",
   "execution_count": null,
   "id": "297ee2ce-1976-4ed1-9e7a-f4a8b0fabc36",
   "metadata": {},
   "outputs": [],
   "source": []
  }
 ],
 "metadata": {
  "kernelspec": {
   "display_name": "Python 3 (ipykernel)",
   "language": "python",
   "name": "python3"
  },
  "language_info": {
   "codemirror_mode": {
    "name": "ipython",
    "version": 3
   },
   "file_extension": ".py",
   "mimetype": "text/x-python",
   "name": "python",
   "nbconvert_exporter": "python",
   "pygments_lexer": "ipython3",
   "version": "3.12.4"
  }
 },
 "nbformat": 4,
 "nbformat_minor": 5
}
