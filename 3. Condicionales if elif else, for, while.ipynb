{
 "cells": [
  {
   "cell_type": "markdown",
   "id": "104b263c-d548-40ad-a25b-581df7f482cc",
   "metadata": {},
   "source": [
    "Condicionales if elif else"
   ]
  },
  {
   "cell_type": "code",
   "execution_count": 12,
   "id": "16d4d11e-fcb8-4aa2-8525-dcbb9d3c826f",
   "metadata": {},
   "outputs": [
    {
     "name": "stdout",
     "output_type": "stream",
     "text": [
      "a es distinto de b\n"
     ]
    }
   ],
   "source": [
    "a= 5\n",
    "b= 8\n",
    "if (a==b):\n",
    "    print(\"a es igual a b\")\n",
    "else:\n",
    "    print(\"a es distinto de b\")"
   ]
  },
  {
   "cell_type": "code",
   "execution_count": 11,
   "id": "9297883c-7799-432e-b427-60a7454a0de0",
   "metadata": {},
   "outputs": [
    {
     "name": "stdout",
     "output_type": "stream",
     "text": [
      "a es menor que b\n"
     ]
    }
   ],
   "source": [
    "a= 5\n",
    "b= 8\n",
    "if (a==b):\n",
    "    print(\"a es igual a b\")\n",
    "elif (a>b):\n",
    "    print (\"a es mayor que b\")\n",
    "elif (a<b):\n",
    "    print (\"a es menor que b\")\n",
    "else:\n",
    "    print(\"a es distinto de b\")"
   ]
  },
  {
   "cell_type": "markdown",
   "id": "c63ac3b8-9070-4b87-b37c-d1b4446ff4f5",
   "metadata": {},
   "source": [
    "Bucle for: sirve para iterar una secuencia de elementos"
   ]
  },
  {
   "cell_type": "code",
   "execution_count": 13,
   "id": "599df417-1d09-4f63-8517-b2b12a2979c4",
   "metadata": {},
   "outputs": [
    {
     "name": "stdout",
     "output_type": "stream",
     "text": [
      "1\n",
      "2\n",
      "3\n",
      "4\n",
      "5\n",
      "6\n"
     ]
    }
   ],
   "source": [
    "lista = [1,2,3,4,5,6]\n",
    "for elemento in lista:\n",
    "    print (elemento)"
   ]
  },
  {
   "cell_type": "code",
   "execution_count": 14,
   "id": "37d36c52-1f4c-4013-b8be-3855a4a29224",
   "metadata": {},
   "outputs": [
    {
     "name": "stdout",
     "output_type": "stream",
     "text": [
      "5\n",
      "10\n",
      "15\n",
      "20\n",
      "25\n",
      "30\n"
     ]
    }
   ],
   "source": [
    "#multiplicamos *5\n",
    "lista = [1,2,3,4,5,6]\n",
    "for elemento in lista:\n",
    "    valor = elemento*5\n",
    "    print (valor)"
   ]
  },
  {
   "cell_type": "markdown",
   "id": "696cb980-145f-4389-acc4-2a4da0ab32ac",
   "metadata": {},
   "source": [
    "Bucle while"
   ]
  },
  {
   "cell_type": "code",
   "execution_count": 16,
   "id": "48ad54d3-468a-414e-9661-d88362d8e263",
   "metadata": {},
   "outputs": [
    {
     "name": "stdout",
     "output_type": "stream",
     "text": [
      "1\n",
      "2\n",
      "3\n",
      "4\n"
     ]
    }
   ],
   "source": [
    "num = 1\n",
    "while num<5:\n",
    "    print(num)\n",
    "    num= num+1"
   ]
  },
  {
   "cell_type": "code",
   "execution_count": null,
   "id": "4917d3e9-908e-48f6-9d7f-f601a8b7cda7",
   "metadata": {},
   "outputs": [],
   "source": []
  }
 ],
 "metadata": {
  "kernelspec": {
   "display_name": "Python 3 (ipykernel)",
   "language": "python",
   "name": "python3"
  },
  "language_info": {
   "codemirror_mode": {
    "name": "ipython",
    "version": 3
   },
   "file_extension": ".py",
   "mimetype": "text/x-python",
   "name": "python",
   "nbconvert_exporter": "python",
   "pygments_lexer": "ipython3",
   "version": "3.12.4"
  }
 },
 "nbformat": 4,
 "nbformat_minor": 5
}
