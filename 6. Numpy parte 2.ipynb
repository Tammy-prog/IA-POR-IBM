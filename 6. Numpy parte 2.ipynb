{
 "cells": [
  {
   "cell_type": "code",
   "execution_count": 1,
   "id": "55b1434e-f498-4895-8eee-94d5271a80e5",
   "metadata": {},
   "outputs": [],
   "source": [
    "import numpy as np"
   ]
  },
  {
   "cell_type": "code",
   "execution_count": 2,
   "id": "6e053b5f-2217-4d9e-9d18-60eca5572f2d",
   "metadata": {},
   "outputs": [],
   "source": [
    "array = np.random.randint(1,100,25)"
   ]
  },
  {
   "cell_type": "code",
   "execution_count": 3,
   "id": "1e3f5137-5f12-4dbb-a51c-5af0e1964250",
   "metadata": {},
   "outputs": [
    {
     "data": {
      "text/plain": [
       "array([31,  2, 69, 81, 33, 64, 55, 87, 13, 13, 68, 20, 15, 54, 95, 86,  4,\n",
       "       88, 63, 52, 46, 76, 25, 81, 85])"
      ]
     },
     "execution_count": 3,
     "metadata": {},
     "output_type": "execute_result"
    }
   ],
   "source": [
    "array"
   ]
  },
  {
   "cell_type": "code",
   "execution_count": 4,
   "id": "4bec5f26-bd16-4c8b-b47e-02259a3a911d",
   "metadata": {},
   "outputs": [],
   "source": [
    "# Si queremos transformar este array en una matriz de 2 dimensiones:\n",
    "matriz = array.reshape(5,5)"
   ]
  },
  {
   "cell_type": "code",
   "execution_count": 5,
   "id": "e2ab87bb-ff0d-41bc-bbf4-4f8e8ceed1a4",
   "metadata": {},
   "outputs": [
    {
     "data": {
      "text/plain": [
       "array([[31,  2, 69, 81, 33],\n",
       "       [64, 55, 87, 13, 13],\n",
       "       [68, 20, 15, 54, 95],\n",
       "       [86,  4, 88, 63, 52],\n",
       "       [46, 76, 25, 81, 85]])"
      ]
     },
     "execution_count": 5,
     "metadata": {},
     "output_type": "execute_result"
    }
   ],
   "source": [
    "matriz"
   ]
  },
  {
   "cell_type": "markdown",
   "id": "e126c7a8-b720-41a3-9970-43daa4732011",
   "metadata": {},
   "source": [
    "Valor máximo y mínimo de un array"
   ]
  },
  {
   "cell_type": "code",
   "execution_count": 6,
   "id": "b09e8642-38cd-4112-879e-98c6561cfe85",
   "metadata": {},
   "outputs": [],
   "source": [
    "array2 = np.random.randint(1,100,50)"
   ]
  },
  {
   "cell_type": "code",
   "execution_count": 7,
   "id": "83ac1b26-489d-4f7e-a51c-0c1d70a01703",
   "metadata": {},
   "outputs": [
    {
     "data": {
      "text/plain": [
       "array([54, 27, 87, 26, 93, 80, 95, 47, 40, 57, 48, 42, 24, 11, 97, 95, 34,\n",
       "        5, 29, 83, 33, 38, 63, 38, 81, 73, 52, 12, 88, 60, 64, 31, 68, 21,\n",
       "       92, 54, 52, 65, 97, 79, 75, 17, 28, 60, 29,  8, 69,  9, 13, 59])"
      ]
     },
     "execution_count": 7,
     "metadata": {},
     "output_type": "execute_result"
    }
   ],
   "source": [
    "array2"
   ]
  },
  {
   "cell_type": "code",
   "execution_count": 10,
   "id": "bd2b1362-694c-44b7-b5eb-7e54d087ac87",
   "metadata": {},
   "outputs": [],
   "source": [
    "matriz2 = array2.reshape(5,10)"
   ]
  },
  {
   "cell_type": "code",
   "execution_count": 16,
   "id": "6d99f5d9-4fc8-4e81-9ae1-140ecd501842",
   "metadata": {},
   "outputs": [
    {
     "data": {
      "text/plain": [
       "array([[54, 27, 87, 26, 93, 80, 95, 47, 40, 57],\n",
       "       [48, 42, 24, 11, 97, 95, 34,  5, 29, 83],\n",
       "       [33, 38, 63, 38, 81, 73, 52, 12, 88, 60],\n",
       "       [64, 31, 68, 21, 92, 54, 52, 65, 97, 79],\n",
       "       [75, 17, 28, 60, 29,  8, 69,  9, 13, 59]])"
      ]
     },
     "execution_count": 16,
     "metadata": {},
     "output_type": "execute_result"
    }
   ],
   "source": [
    "matriz2"
   ]
  },
  {
   "cell_type": "code",
   "execution_count": 12,
   "id": "125e2505-f00c-4422-8f41-a8efd8b43373",
   "metadata": {},
   "outputs": [],
   "source": [
    "valor_maximo = array2.max()"
   ]
  },
  {
   "cell_type": "code",
   "execution_count": 13,
   "id": "996b0bef-1847-4ffc-b58f-a8bc674e3859",
   "metadata": {},
   "outputs": [
    {
     "data": {
      "text/plain": [
       "97"
      ]
     },
     "execution_count": 13,
     "metadata": {},
     "output_type": "execute_result"
    }
   ],
   "source": [
    "valor_maximo"
   ]
  },
  {
   "cell_type": "code",
   "execution_count": 14,
   "id": "d724c412-b274-43af-a708-93273b35ac1f",
   "metadata": {},
   "outputs": [],
   "source": [
    "#Si queremos saber en que poición está el valor máximo:\n",
    "posicion_valor_max = array2.argmax()"
   ]
  },
  {
   "cell_type": "code",
   "execution_count": 15,
   "id": "eee2792e-10fa-4239-971c-c40f080a9b58",
   "metadata": {},
   "outputs": [
    {
     "data": {
      "text/plain": [
       "14"
      ]
     },
     "execution_count": 15,
     "metadata": {},
     "output_type": "execute_result"
    }
   ],
   "source": [
    "posicion_valor_max"
   ]
  },
  {
   "cell_type": "code",
   "execution_count": 17,
   "id": "22d0c129-b350-47d9-aa6b-df96060c5b40",
   "metadata": {},
   "outputs": [],
   "source": [
    "valor_minimo = array2.min()"
   ]
  },
  {
   "cell_type": "code",
   "execution_count": 18,
   "id": "22994090-a0a9-4975-8bcb-793f18646682",
   "metadata": {},
   "outputs": [
    {
     "data": {
      "text/plain": [
       "5"
      ]
     },
     "execution_count": 18,
     "metadata": {},
     "output_type": "execute_result"
    }
   ],
   "source": [
    "valor_minimo"
   ]
  },
  {
   "cell_type": "code",
   "execution_count": 21,
   "id": "136b132e-77b2-4b6b-96a2-d95dacc7300e",
   "metadata": {},
   "outputs": [],
   "source": [
    "posicion_valor_min = array2.argmin()"
   ]
  },
  {
   "cell_type": "code",
   "execution_count": 22,
   "id": "a081aa10-a0c1-4b70-8389-b3f312b29f4a",
   "metadata": {},
   "outputs": [
    {
     "data": {
      "text/plain": [
       "17"
      ]
     },
     "execution_count": 22,
     "metadata": {},
     "output_type": "execute_result"
    }
   ],
   "source": [
    "posicion_valor_min"
   ]
  },
  {
   "cell_type": "markdown",
   "id": "ec8a7018-6c0f-4e81-984f-a69f65e5d958",
   "metadata": {},
   "source": [
    "Indexacion en arrays"
   ]
  },
  {
   "cell_type": "code",
   "execution_count": 23,
   "id": "cb82629d-3b35-4131-b1a9-72a90db948bf",
   "metadata": {},
   "outputs": [
    {
     "data": {
      "text/plain": [
       "array([0, 1, 2, 3, 4, 5, 6, 7, 8, 9])"
      ]
     },
     "execution_count": 23,
     "metadata": {},
     "output_type": "execute_result"
    }
   ],
   "source": [
    "array3 = np.arange(0,10)\n",
    "array3"
   ]
  },
  {
   "cell_type": "code",
   "execution_count": 25,
   "id": "f1b37a38-b8f7-41e9-8875-babd1cf8ed01",
   "metadata": {},
   "outputs": [
    {
     "data": {
      "text/plain": [
       "0"
      ]
     },
     "execution_count": 25,
     "metadata": {},
     "output_type": "execute_result"
    }
   ],
   "source": [
    "#Primera posición del array\n",
    "array3[0]"
   ]
  },
  {
   "cell_type": "code",
   "execution_count": 26,
   "id": "49b57332-9e7b-4da2-a2f8-76b25228539a",
   "metadata": {},
   "outputs": [
    {
     "data": {
      "text/plain": [
       "9"
      ]
     },
     "execution_count": 26,
     "metadata": {},
     "output_type": "execute_result"
    }
   ],
   "source": [
    "#Última posición del array\n",
    "array3[-1]"
   ]
  },
  {
   "cell_type": "code",
   "execution_count": 27,
   "id": "9ceeb15a-7b9e-4246-b5d8-52c4d13bf96b",
   "metadata": {},
   "outputs": [
    {
     "data": {
      "text/plain": [
       "array([2, 3, 4])"
      ]
     },
     "execution_count": 27,
     "metadata": {},
     "output_type": "execute_result"
    }
   ],
   "source": [
    "#De la posición 2 a la 5\n",
    "array3[2:5]"
   ]
  },
  {
   "cell_type": "code",
   "execution_count": 29,
   "id": "159fbd0a-8471-41f0-8ab3-bcec68561cfc",
   "metadata": {},
   "outputs": [
    {
     "data": {
      "text/plain": [
       "array([0, 1, 2, 3, 4])"
      ]
     },
     "execution_count": 29,
     "metadata": {},
     "output_type": "execute_result"
    }
   ],
   "source": [
    "#De la posición inicial a la 5\n",
    "array3[:5]"
   ]
  },
  {
   "cell_type": "code",
   "execution_count": 30,
   "id": "1ee9226e-ef5c-412e-b9ef-bf9be3e0fc10",
   "metadata": {},
   "outputs": [
    {
     "data": {
      "text/plain": [
       "array([5, 6, 7, 8, 9])"
      ]
     },
     "execution_count": 30,
     "metadata": {},
     "output_type": "execute_result"
    }
   ],
   "source": [
    "#De la posición 5 al final\n",
    "array3[5:]"
   ]
  },
  {
   "cell_type": "code",
   "execution_count": 31,
   "id": "2b743e0d-4cee-4ac9-a09b-8dc4e73e9e81",
   "metadata": {},
   "outputs": [
    {
     "data": {
      "text/plain": [
       "array([0, 1, 2, 3, 4, 5, 6, 7, 8, 9])"
      ]
     },
     "execution_count": 31,
     "metadata": {},
     "output_type": "execute_result"
    }
   ],
   "source": [
    "#Todo el array\n",
    "array3[:]"
   ]
  },
  {
   "cell_type": "code",
   "execution_count": 32,
   "id": "910aeefc-9559-4b4c-910e-a36520b4e7fc",
   "metadata": {},
   "outputs": [
    {
     "data": {
      "text/plain": [
       "array([0, 1, 2, 3, 4, 5, 6, 7, 8, 9])"
      ]
     },
     "execution_count": 32,
     "metadata": {},
     "output_type": "execute_result"
    }
   ],
   "source": [
    "# Copia del array\n",
    "array4 = array3.copy()\n",
    "array4"
   ]
  },
  {
   "cell_type": "code",
   "execution_count": 33,
   "id": "be4cbbfe-8639-4f9d-978c-05d8c1eea7e8",
   "metadata": {},
   "outputs": [
    {
     "data": {
      "text/plain": [
       "array([100,   1,   2,   3,   4,   5,   6,   7,   8,   9])"
      ]
     },
     "execution_count": 33,
     "metadata": {},
     "output_type": "execute_result"
    }
   ],
   "source": [
    "array4[0] = 100\n",
    "array4"
   ]
  },
  {
   "cell_type": "code",
   "execution_count": 34,
   "id": "ab341f0c-7ae3-4251-b5a0-b4c225ba1b6d",
   "metadata": {},
   "outputs": [
    {
     "data": {
      "text/plain": [
       "array([0, 1, 2, 3, 4, 5, 6, 7, 8, 9])"
      ]
     },
     "execution_count": 34,
     "metadata": {},
     "output_type": "execute_result"
    }
   ],
   "source": [
    "array3"
   ]
  },
  {
   "cell_type": "markdown",
   "id": "86138102-9e41-439a-ba59-012c9c6d7297",
   "metadata": {},
   "source": [
    "Indexación en arrays de 2 o + dimensiones"
   ]
  },
  {
   "cell_type": "code",
   "execution_count": 36,
   "id": "277c9a68-1bdf-4514-95b3-9096b18c47ef",
   "metadata": {},
   "outputs": [
    {
     "data": {
      "text/plain": [
       "array([[1, 2, 3],\n",
       "       [4, 5, 6],\n",
       "       [7, 8, 9]])"
      ]
     },
     "execution_count": 36,
     "metadata": {},
     "output_type": "execute_result"
    }
   ],
   "source": [
    "#Creamos una matriz de 3 dimensiones\n",
    "array5 = np.array([[1,2,3], [4,5,6], [7,8,9]])\n",
    "array5"
   ]
  },
  {
   "cell_type": "code",
   "execution_count": 37,
   "id": "f1bcecd1-4816-410e-a7e0-8e9d518401c9",
   "metadata": {},
   "outputs": [
    {
     "data": {
      "text/plain": [
       "array([1, 2, 3])"
      ]
     },
     "execution_count": 37,
     "metadata": {},
     "output_type": "execute_result"
    }
   ],
   "source": [
    "#Con esto obtenemos la primera fila entera\n",
    "array5[0]"
   ]
  },
  {
   "cell_type": "code",
   "execution_count": 41,
   "id": "52d2dd45-6f74-4d5a-b552-fb8597a08b8f",
   "metadata": {},
   "outputs": [
    {
     "data": {
      "text/plain": [
       "array([[1, 2, 3],\n",
       "       [4, 5, 6]])"
      ]
     },
     "execution_count": 41,
     "metadata": {},
     "output_type": "execute_result"
    }
   ],
   "source": [
    "array6 = array5[:2]\n",
    "array6"
   ]
  },
  {
   "cell_type": "code",
   "execution_count": 42,
   "id": "5c79a7b9-d0a4-4edb-ab6d-ef8595f40e7b",
   "metadata": {},
   "outputs": [
    {
     "data": {
      "text/plain": [
       "1"
      ]
     },
     "execution_count": 42,
     "metadata": {},
     "output_type": "execute_result"
    }
   ],
   "source": [
    "array5[0][0]"
   ]
  },
  {
   "cell_type": "code",
   "execution_count": 45,
   "id": "ed9d5122-3db0-4ade-a35d-667436392876",
   "metadata": {},
   "outputs": [
    {
     "data": {
      "text/plain": [
       "1"
      ]
     },
     "execution_count": 45,
     "metadata": {},
     "output_type": "execute_result"
    }
   ],
   "source": [
    "array5[0,0]"
   ]
  },
  {
   "cell_type": "code",
   "execution_count": 46,
   "id": "b4caef75-b323-41ca-befa-0419457e7bc3",
   "metadata": {},
   "outputs": [
    {
     "data": {
      "text/plain": [
       "5"
      ]
     },
     "execution_count": 46,
     "metadata": {},
     "output_type": "execute_result"
    }
   ],
   "source": [
    "array5[1,1]"
   ]
  },
  {
   "cell_type": "code",
   "execution_count": 47,
   "id": "10e2d13f-2c3d-4286-b881-c49ae59c996d",
   "metadata": {},
   "outputs": [
    {
     "data": {
      "text/plain": [
       "array([1, 4, 7])"
      ]
     },
     "execution_count": 47,
     "metadata": {},
     "output_type": "execute_result"
    }
   ],
   "source": [
    "#Para seleccionar 1 columna:\n",
    "array5[:, 0]"
   ]
  },
  {
   "cell_type": "code",
   "execution_count": 50,
   "id": "ea774d67-d542-4324-8337-06b87edc39ff",
   "metadata": {},
   "outputs": [
    {
     "data": {
      "text/plain": [
       "array([[1, 2],\n",
       "       [4, 5],\n",
       "       [7, 8]])"
      ]
     },
     "execution_count": 50,
     "metadata": {},
     "output_type": "execute_result"
    }
   ],
   "source": [
    "#Si queremos las 2 primeras columnas:\n",
    "array5[:, :2]"
   ]
  },
  {
   "cell_type": "markdown",
   "id": "734f7ede-7df0-4308-b040-0c6d2c77c8a7",
   "metadata": {},
   "source": [
    "Seleccionar elementos de un array según condición"
   ]
  },
  {
   "cell_type": "code",
   "execution_count": 51,
   "id": "ad389f22-d805-4229-ab04-102a2cd9de4b",
   "metadata": {},
   "outputs": [
    {
     "data": {
      "text/plain": [
       "array([0, 1, 2, 3, 4, 5, 6, 7, 8, 9])"
      ]
     },
     "execution_count": 51,
     "metadata": {},
     "output_type": "execute_result"
    }
   ],
   "source": [
    "#Creamos un array\n",
    "array7= np.arange(0,10)\n",
    "array7"
   ]
  },
  {
   "cell_type": "code",
   "execution_count": 52,
   "id": "4fc24305-406c-4fab-988f-1326db449f32",
   "metadata": {},
   "outputs": [],
   "source": [
    "condicion = array7>5"
   ]
  },
  {
   "cell_type": "code",
   "execution_count": 53,
   "id": "1d7195df-d3ce-4744-ba8c-69d1a825a762",
   "metadata": {},
   "outputs": [
    {
     "data": {
      "text/plain": [
       "array([False, False, False, False, False, False,  True,  True,  True,\n",
       "        True])"
      ]
     },
     "execution_count": 53,
     "metadata": {},
     "output_type": "execute_result"
    }
   ],
   "source": [
    "condicion"
   ]
  },
  {
   "cell_type": "code",
   "execution_count": 54,
   "id": "a9d01279-8b36-4430-98f7-b36988d35140",
   "metadata": {},
   "outputs": [
    {
     "data": {
      "text/plain": [
       "array([6, 7, 8, 9])"
      ]
     },
     "execution_count": 54,
     "metadata": {},
     "output_type": "execute_result"
    }
   ],
   "source": [
    "array7[condicion]"
   ]
  },
  {
   "cell_type": "code",
   "execution_count": 56,
   "id": "afa534f5-5319-4b09-aea5-891e8950749a",
   "metadata": {},
   "outputs": [
    {
     "data": {
      "text/plain": [
       "array([0, 1, 2])"
      ]
     },
     "execution_count": 56,
     "metadata": {},
     "output_type": "execute_result"
    }
   ],
   "source": [
    "array7[array7<=2]"
   ]
  },
  {
   "cell_type": "code",
   "execution_count": 58,
   "id": "3f097a52-2029-4e2f-ba8c-3ace25ee864b",
   "metadata": {},
   "outputs": [
    {
     "data": {
      "text/plain": [
       "array([0, 2, 4, 6, 8])"
      ]
     },
     "execution_count": 58,
     "metadata": {},
     "output_type": "execute_result"
    }
   ],
   "source": [
    "array7[array7%2==0]"
   ]
  },
  {
   "cell_type": "markdown",
   "id": "815bb385-de70-4f0a-b257-44f6ef5e7c1c",
   "metadata": {},
   "source": [
    "Operaciones sobre los arrays"
   ]
  },
  {
   "cell_type": "code",
   "execution_count": 59,
   "id": "ec692081-68f6-4a1a-9889-c08c32a55c35",
   "metadata": {},
   "outputs": [
    {
     "data": {
      "text/plain": [
       "array([ 0,  2,  4,  6,  8, 10, 12, 14, 16, 18])"
      ]
     },
     "execution_count": 59,
     "metadata": {},
     "output_type": "execute_result"
    }
   ],
   "source": [
    "#Sumas:\n",
    "array7+array7"
   ]
  },
  {
   "cell_type": "code",
   "execution_count": 60,
   "id": "eb4b844f-0e56-4bb1-a301-0c2c78c7ca44",
   "metadata": {},
   "outputs": [
    {
     "data": {
      "text/plain": [
       "array([  0, 100, 200, 300, 400, 500, 600, 700, 800, 900])"
      ]
     },
     "execution_count": 60,
     "metadata": {},
     "output_type": "execute_result"
    }
   ],
   "source": [
    "array7*100"
   ]
  },
  {
   "cell_type": "code",
   "execution_count": 61,
   "id": "22d32942-551f-49c2-beb6-597ce72b59f0",
   "metadata": {},
   "outputs": [
    {
     "data": {
      "text/plain": [
       "array([40, 41, 42, 43, 44, 45, 46, 47, 48, 49])"
      ]
     },
     "execution_count": 61,
     "metadata": {},
     "output_type": "execute_result"
    }
   ],
   "source": [
    "array7+40"
   ]
  },
  {
   "cell_type": "code",
   "execution_count": 65,
   "id": "313863ba-8575-4201-a153-922c2c03d88b",
   "metadata": {},
   "outputs": [
    {
     "data": {
      "text/plain": [
       "array([0, 0, 0, 0, 0, 0, 0, 0, 0, 0])"
      ]
     },
     "execution_count": 65,
     "metadata": {},
     "output_type": "execute_result"
    }
   ],
   "source": [
    "array7-array7"
   ]
  },
  {
   "cell_type": "code",
   "execution_count": 64,
   "id": "1dd89547-7f4c-4b6e-881c-089929ba26df",
   "metadata": {},
   "outputs": [
    {
     "data": {
      "text/plain": [
       "array([0, 1, 2, 3, 4, 5, 6, 7, 8, 9])"
      ]
     },
     "execution_count": 64,
     "metadata": {},
     "output_type": "execute_result"
    }
   ],
   "source": [
    "(array7*2)-array7"
   ]
  },
  {
   "cell_type": "code",
   "execution_count": 66,
   "id": "e3b18d09-a96e-40a5-9b5e-95b9f7ac3a3e",
   "metadata": {},
   "outputs": [
    {
     "data": {
      "text/plain": [
       "array([0.        , 1.        , 1.41421356, 1.73205081, 2.        ,\n",
       "       2.23606798, 2.44948974, 2.64575131, 2.82842712, 3.        ])"
      ]
     },
     "execution_count": 66,
     "metadata": {},
     "output_type": "execute_result"
    }
   ],
   "source": [
    "np.sqrt(array7)"
   ]
  },
  {
   "cell_type": "code",
   "execution_count": 67,
   "id": "ae121cba-20e0-424c-8892-efc60651225d",
   "metadata": {},
   "outputs": [
    {
     "data": {
      "text/plain": [
       "array([10, 11, 12, 13, 14, 15, 16, 17, 18, 19, 20, 21, 22, 23, 24, 25, 26,\n",
       "       27, 28, 29, 30, 31, 32, 33, 34, 35, 36, 37, 38, 39])"
      ]
     },
     "execution_count": 67,
     "metadata": {},
     "output_type": "execute_result"
    }
   ],
   "source": [
    "#Ejercicio1\n",
    "#Crea una lista de elementos secuenciales con el valor mínimo de 10 y el máximo de 39.\n",
    "#Convierte esa lista en una matriz de 3x10\n",
    "#Accede al elemento de la esqina superior derecha de la matriz\n",
    "lista = np.arange(10,40)\n",
    "lista"
   ]
  },
  {
   "cell_type": "code",
   "execution_count": 73,
   "id": "bcf72d42-da87-47c8-8c58-2ec57e022cea",
   "metadata": {},
   "outputs": [],
   "source": [
    "lista = lista.reshape(3,10)"
   ]
  },
  {
   "cell_type": "code",
   "execution_count": 74,
   "id": "fe643cf3-41d9-4c30-b555-5cf6db990f40",
   "metadata": {},
   "outputs": [
    {
     "data": {
      "text/plain": [
       "array([[10, 11, 12, 13, 14, 15, 16, 17, 18, 19],\n",
       "       [20, 21, 22, 23, 24, 25, 26, 27, 28, 29],\n",
       "       [30, 31, 32, 33, 34, 35, 36, 37, 38, 39]])"
      ]
     },
     "execution_count": 74,
     "metadata": {},
     "output_type": "execute_result"
    }
   ],
   "source": [
    "lista"
   ]
  },
  {
   "cell_type": "code",
   "execution_count": 75,
   "id": "4b712555-e7aa-4123-a853-a96d4c577bcf",
   "metadata": {},
   "outputs": [
    {
     "data": {
      "text/plain": [
       "19"
      ]
     },
     "execution_count": 75,
     "metadata": {},
     "output_type": "execute_result"
    }
   ],
   "source": [
    "lista[0,-1]"
   ]
  },
  {
   "cell_type": "code",
   "execution_count": 76,
   "id": "0a8c569a-fea6-453c-b24b-abd068b8175c",
   "metadata": {},
   "outputs": [
    {
     "data": {
      "text/plain": [
       "array([91, 94, 14, 83, 95, 44, 92, 14, 97])"
      ]
     },
     "execution_count": 76,
     "metadata": {},
     "output_type": "execute_result"
    }
   ],
   "source": [
    "# Ejercicio 2\n",
    "# Crea un array de 1 dimensión con 9 valores enteros aleatorios entre 0 y 100\n",
    "# Convierte este array en una matriz de 3x3\n",
    "# Muestra por pantalla el valor del elemento de la matriz de la esquina inferior derecha\n",
    "array = np.random.randint(0,100,9)\n",
    "array"
   ]
  },
  {
   "cell_type": "code",
   "execution_count": 77,
   "id": "95aa1293-23cf-41bd-8796-9a6c6630e030",
   "metadata": {},
   "outputs": [
    {
     "data": {
      "text/plain": [
       "array([[91, 94, 14],\n",
       "       [83, 95, 44],\n",
       "       [92, 14, 97]])"
      ]
     },
     "execution_count": 77,
     "metadata": {},
     "output_type": "execute_result"
    }
   ],
   "source": [
    "matriz = array.reshape(3,3)\n",
    "matriz"
   ]
  },
  {
   "cell_type": "code",
   "execution_count": 78,
   "id": "ee95b571-3361-4de3-a3f6-c2a4e92817e3",
   "metadata": {},
   "outputs": [
    {
     "data": {
      "text/plain": [
       "97"
      ]
     },
     "execution_count": 78,
     "metadata": {},
     "output_type": "execute_result"
    }
   ],
   "source": [
    "matriz[-1,-1]"
   ]
  },
  {
   "cell_type": "code",
   "execution_count": 80,
   "id": "ba3b5b1a-e5f2-4fd3-a9f9-91eb488c5e20",
   "metadata": {},
   "outputs": [],
   "source": [
    "array10 = np.arange(0,10,2)"
   ]
  },
  {
   "cell_type": "code",
   "execution_count": 82,
   "id": "bbf16e25-1f15-493c-86ad-b69a0e9b1ecf",
   "metadata": {},
   "outputs": [
    {
     "data": {
      "text/plain": [
       "array([0, 2, 4, 6, 8])"
      ]
     },
     "execution_count": 82,
     "metadata": {},
     "output_type": "execute_result"
    }
   ],
   "source": [
    "array10"
   ]
  },
  {
   "cell_type": "code",
   "execution_count": null,
   "id": "3228d1f5-4e99-46f1-b8f4-d71127b42af9",
   "metadata": {},
   "outputs": [],
   "source": []
  }
 ],
 "metadata": {
  "kernelspec": {
   "display_name": "Python 3 (ipykernel)",
   "language": "python",
   "name": "python3"
  },
  "language_info": {
   "codemirror_mode": {
    "name": "ipython",
    "version": 3
   },
   "file_extension": ".py",
   "mimetype": "text/x-python",
   "name": "python",
   "nbconvert_exporter": "python",
   "pygments_lexer": "ipython3",
   "version": "3.12.4"
  }
 },
 "nbformat": 4,
 "nbformat_minor": 5
}
