{
 "cells": [
  {
   "cell_type": "markdown",
   "id": "939ae192-3415-4994-8f0a-53076f8a8698",
   "metadata": {},
   "source": [
    "Cadenas "
   ]
  },
  {
   "cell_type": "code",
   "execution_count": 1,
   "id": "8e4147fa-0108-43cc-8ce6-5e446c768f9b",
   "metadata": {},
   "outputs": [],
   "source": [
    "cadena = \"Buenos días\""
   ]
  },
  {
   "cell_type": "code",
   "execution_count": 2,
   "id": "947a7d4a-6b67-4cbf-a4fa-40cfc51b7f2f",
   "metadata": {},
   "outputs": [
    {
     "data": {
      "text/plain": [
       "'Buenos días'"
      ]
     },
     "execution_count": 2,
     "metadata": {},
     "output_type": "execute_result"
    }
   ],
   "source": [
    "cadena"
   ]
  },
  {
   "cell_type": "code",
   "execution_count": 3,
   "id": "13abe04b-727c-4bfe-8d73-3e5d808c3f2d",
   "metadata": {},
   "outputs": [
    {
     "name": "stdout",
     "output_type": "stream",
     "text": [
      "Buenos días\n"
     ]
    }
   ],
   "source": [
    "print(cadena)"
   ]
  },
  {
   "cell_type": "code",
   "execution_count": 4,
   "id": "a58a4921-9c07-4951-a8ed-af33cb95a1b9",
   "metadata": {},
   "outputs": [
    {
     "name": "stdout",
     "output_type": "stream",
     "text": [
      "Me llamo Tamara y tengo 39 años\n"
     ]
    }
   ],
   "source": [
    "# Si queremos unir frases con datos:\n",
    "nombre= \"Tamara\"\n",
    "edad= 39\n",
    "print (\"Me llamo {} y tengo {} años\".format(nombre, edad))"
   ]
  },
  {
   "cell_type": "code",
   "execution_count": 5,
   "id": "629de76d-ddab-4494-965c-7aa89b3674b7",
   "metadata": {},
   "outputs": [
    {
     "name": "stdout",
     "output_type": "stream",
     "text": [
      "Me llamo Tamara y tengo 39 años\n"
     ]
    }
   ],
   "source": [
    "# Tb podemos hacerlo así\n",
    "nombre= \"Tamara\"\n",
    "edad= 39\n",
    "print (\"Me llamo {var1} y tengo {var2} años\".format(var1=nombre, var2=edad))"
   ]
  },
  {
   "cell_type": "code",
   "execution_count": 6,
   "id": "312d12d3-bf89-45af-a864-4b4fe4bb3362",
   "metadata": {},
   "outputs": [
    {
     "name": "stdout",
     "output_type": "stream",
     "text": [
      "F\n"
     ]
    }
   ],
   "source": [
    "#Si queremos acceder a un elemento de la cadena:\n",
    "cadena = \"Futbol\"\n",
    "print(cadena[0])"
   ]
  },
  {
   "cell_type": "code",
   "execution_count": 7,
   "id": "2756e201-ed90-438c-ad26-61f43c87addd",
   "metadata": {},
   "outputs": [
    {
     "data": {
      "text/plain": [
       "'b'"
      ]
     },
     "execution_count": 7,
     "metadata": {},
     "output_type": "execute_result"
    }
   ],
   "source": [
    "cadena[3]"
   ]
  },
  {
   "cell_type": "code",
   "execution_count": 8,
   "id": "795ad400-6e6f-4baf-8015-e2603adc7c85",
   "metadata": {},
   "outputs": [
    {
     "data": {
      "text/plain": [
       "'l'"
      ]
     },
     "execution_count": 8,
     "metadata": {},
     "output_type": "execute_result"
    }
   ],
   "source": [
    "# Cadena[-1] nos daría la última posición\n",
    "cadena[-1]"
   ]
  },
  {
   "cell_type": "code",
   "execution_count": 9,
   "id": "9785ad5b-dcfa-4e55-a5e8-da4fe65c03d8",
   "metadata": {},
   "outputs": [
    {
     "data": {
      "text/plain": [
       "'utb'"
      ]
     },
     "execution_count": 9,
     "metadata": {},
     "output_type": "execute_result"
    }
   ],
   "source": [
    "# De la posción 1 a la 3 (ponemos 4 porque acaba en 4-1, el último número es no inclusivo\n",
    "cadena[1:4]"
   ]
  },
  {
   "cell_type": "markdown",
   "id": "97650e96-613d-4baa-b4e1-1ffb704cf129",
   "metadata": {},
   "source": [
    "Listas"
   ]
  },
  {
   "cell_type": "code",
   "execution_count": 12,
   "id": "cdb43610-2a77-42ef-b8b7-3a63cfe565b0",
   "metadata": {},
   "outputs": [
    {
     "data": {
      "text/plain": [
       "['a', 'b', 'c', 'adios']"
      ]
     },
     "execution_count": 12,
     "metadata": {},
     "output_type": "execute_result"
    }
   ],
   "source": [
    "# Una lista es un conjunto de elementos\n",
    "[1,2,3,4]\n",
    "['a', 'b', 'c', 'adios']"
   ]
  },
  {
   "cell_type": "code",
   "execution_count": 17,
   "id": "85e527ce-9913-4696-8cb2-bf0d49ce13f9",
   "metadata": {},
   "outputs": [
    {
     "data": {
      "text/plain": [
       "['a', 'b', 'c', 'd', 'e']"
      ]
     },
     "execution_count": 17,
     "metadata": {},
     "output_type": "execute_result"
    }
   ],
   "source": [
    "#Para añadir elementos a una lista\n",
    "lista = ['a', 'b', 'c',\"d\"]\n",
    "lista.append('e')\n",
    "lista"
   ]
  },
  {
   "cell_type": "code",
   "execution_count": 15,
   "id": "b0eae0c2-6567-4cc8-8f52-844179eda2bb",
   "metadata": {},
   "outputs": [
    {
     "data": {
      "text/plain": [
       "'a'"
      ]
     },
     "execution_count": 15,
     "metadata": {},
     "output_type": "execute_result"
    }
   ],
   "source": [
    "#Podemos acceder a cada una de las posiciones por separado\n",
    "lista[0]"
   ]
  },
  {
   "cell_type": "code",
   "execution_count": 16,
   "id": "64b39dd8-860f-4152-a3f7-88b85c3ef955",
   "metadata": {},
   "outputs": [
    {
     "data": {
      "text/plain": [
       "'e'"
      ]
     },
     "execution_count": 16,
     "metadata": {},
     "output_type": "execute_result"
    }
   ],
   "source": [
    "lista[-1]"
   ]
  },
  {
   "cell_type": "code",
   "execution_count": 18,
   "id": "5f363d2d-5b92-4f76-bb19-39418cc3d2e9",
   "metadata": {},
   "outputs": [
    {
     "data": {
      "text/plain": [
       "['b', 'c']"
      ]
     },
     "execution_count": 18,
     "metadata": {},
     "output_type": "execute_result"
    }
   ],
   "source": [
    "lista[1:3]"
   ]
  },
  {
   "cell_type": "code",
   "execution_count": 19,
   "id": "72042da5-e17d-4894-a238-f1aa6e93e608",
   "metadata": {},
   "outputs": [
    {
     "data": {
      "text/plain": [
       "[1, 2, 3, ['a', 'b', 'c', 'd']]"
      ]
     },
     "execution_count": 19,
     "metadata": {},
     "output_type": "execute_result"
    }
   ],
   "source": [
    "listadoble= [1, 2, 3, ['a', 'b', 'c',\"d\"]]\n",
    "listadoble"
   ]
  },
  {
   "cell_type": "code",
   "execution_count": 21,
   "id": "507f3b46-cd1d-4ea1-978b-8754da75c9da",
   "metadata": {},
   "outputs": [
    {
     "data": {
      "text/plain": [
       "1"
      ]
     },
     "execution_count": 21,
     "metadata": {},
     "output_type": "execute_result"
    }
   ],
   "source": [
    "listadoble[0]"
   ]
  },
  {
   "cell_type": "code",
   "execution_count": 22,
   "id": "f825061a-1547-4d49-b45a-cc2b35a6a5b8",
   "metadata": {},
   "outputs": [
    {
     "data": {
      "text/plain": [
       "['a', 'b', 'c', 'd']"
      ]
     },
     "execution_count": 22,
     "metadata": {},
     "output_type": "execute_result"
    }
   ],
   "source": [
    "listadoble[3]"
   ]
  },
  {
   "cell_type": "code",
   "execution_count": 23,
   "id": "ec1331a5-0aec-4e9c-a6fd-e5a588726eeb",
   "metadata": {},
   "outputs": [
    {
     "data": {
      "text/plain": [
       "'a'"
      ]
     },
     "execution_count": 23,
     "metadata": {},
     "output_type": "execute_result"
    }
   ],
   "source": [
    "listadoble[3][0]"
   ]
  },
  {
   "cell_type": "code",
   "execution_count": null,
   "id": "1822b5b4-89e6-4765-aff2-8aa1ff04d31f",
   "metadata": {},
   "outputs": [],
   "source": []
  }
 ],
 "metadata": {
  "kernelspec": {
   "display_name": "Python 3 (ipykernel)",
   "language": "python",
   "name": "python3"
  },
  "language_info": {
   "codemirror_mode": {
    "name": "ipython",
    "version": 3
   },
   "file_extension": ".py",
   "mimetype": "text/x-python",
   "name": "python",
   "nbconvert_exporter": "python",
   "pygments_lexer": "ipython3",
   "version": "3.12.4"
  }
 },
 "nbformat": 4,
 "nbformat_minor": 5
}
