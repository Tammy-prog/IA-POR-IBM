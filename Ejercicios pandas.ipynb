{
 "cells": [
  {
   "cell_type": "markdown",
   "id": "f986f8dd-783f-45e8-966e-e3d8f4912fa8",
   "metadata": {},
   "source": [
    "Crearlista asignaturas ='Matematicas', 'Fisica', 'Historia'; Crear lista notas=9,9,8; Crear serie de la lista de notas como valores \n",
    "y la lista de asignaturas como índices; crear variable nota_fisica con la nota de fisica; Imprimir \"La nota de fisica es ...\""
   ]
  },
  {
   "cell_type": "code",
   "execution_count": 1,
   "id": "6846f1ee-7dac-4197-ae47-056ab3c76370",
   "metadata": {},
   "outputs": [],
   "source": [
    "import numpy as np\n",
    "import pandas as pd"
   ]
  },
  {
   "cell_type": "code",
   "execution_count": 2,
   "id": "dcad0072-cd42-4dfc-8f97-e271f01e58a0",
   "metadata": {},
   "outputs": [
    {
     "data": {
      "text/plain": [
       "Matematicas    9\n",
       "Fisica         9\n",
       "Historia       8\n",
       "dtype: int64"
      ]
     },
     "execution_count": 2,
     "metadata": {},
     "output_type": "execute_result"
    }
   ],
   "source": [
    "asignaturas = ['Matematicas', 'Fisica', 'Historia']\n",
    "notas = [9,9,8]\n",
    "pd.Series(data= notas, index = asignaturas)"
   ]
  },
  {
   "cell_type": "code",
   "execution_count": 3,
   "id": "0e4107b2-8525-44ed-bc45-350f58dbac02",
   "metadata": {},
   "outputs": [
    {
     "data": {
      "text/plain": [
       "Matematicas    9\n",
       "Fisica         9\n",
       "Historia       8\n",
       "dtype: int64"
      ]
     },
     "execution_count": 3,
     "metadata": {},
     "output_type": "execute_result"
    }
   ],
   "source": [
    "serie = pd.Series(data= notas, index = asignaturas)\n",
    "serie"
   ]
  },
  {
   "cell_type": "code",
   "execution_count": 7,
   "id": "81dd4876-0214-42fc-a20d-44349496ec87",
   "metadata": {},
   "outputs": [
    {
     "data": {
      "text/plain": [
       "9"
      ]
     },
     "execution_count": 7,
     "metadata": {},
     "output_type": "execute_result"
    }
   ],
   "source": [
    "nota_fisica =serie['Fisica']\n",
    "nota_fisica"
   ]
  },
  {
   "cell_type": "code",
   "execution_count": 10,
   "id": "75aa5219-6797-462d-9ddf-a4f6f1955f51",
   "metadata": {},
   "outputs": [
    {
     "name": "stdout",
     "output_type": "stream",
     "text": [
      "La nota de fisica es: 9\n"
     ]
    }
   ],
   "source": [
    "print (\"La nota de fisica es: {}\".format(nota_fisica))"
   ]
  },
  {
   "cell_type": "markdown",
   "id": "2059bbd5-9956-4fe1-a389-2714dee9392c",
   "metadata": {},
   "source": [
    "Crear dataframe con las ventas de nuestras 3 oficinas para los meses de enero, febrero y marzo. Pasos a seguir:\n",
    "1. Crear variable ventas_enero que contenga una lista de 3 nº enteros aleatorios entre 100 y 500\n",
    "2. Crear variable ventas_febrero que contenga una lista de 3 nº enteros aleatorios entre 100 y 500\n",
    "3. Crear variable ventas_marzo que contenga una lista de 3 nº enteros aleatorios entre 100 y 500\n",
    "4. Crear variable filas que contenga : \"ventas_enero\", \"ventas_febrero\", \"ventas_marzo\"\n",
    "5. Crear variable columnas que contenga : \"oficina1\", \"oficina2\", \"oficina3\"\n",
    "6. Crear variable ventas que contenga una lista con las ventas de enero, febrero y marzo\n",
    "7. Crear dataframe que contenga ventas, filas y columnas\n",
    "8. Mediante print mostrar: \"Las ventas de enero para la oficina 1 son de: \""
   ]
  },
  {
   "cell_type": "code",
   "execution_count": 14,
   "id": "df7e9ea4-7fd8-4790-83f6-7a82a5bd4a0b",
   "metadata": {},
   "outputs": [],
   "source": [
    "ventas_enero = np.random.randint(100,500,3)"
   ]
  },
  {
   "cell_type": "code",
   "execution_count": 15,
   "id": "02d5e894-a309-4740-95d8-8eec474f3cb8",
   "metadata": {},
   "outputs": [
    {
     "data": {
      "text/plain": [
       "array([346, 219, 427])"
      ]
     },
     "execution_count": 15,
     "metadata": {},
     "output_type": "execute_result"
    }
   ],
   "source": [
    "ventas_enero"
   ]
  },
  {
   "cell_type": "code",
   "execution_count": 16,
   "id": "621fdf75-2003-47f5-b51d-bda18fd2c275",
   "metadata": {},
   "outputs": [
    {
     "data": {
      "text/plain": [
       "array([202, 485, 366])"
      ]
     },
     "execution_count": 16,
     "metadata": {},
     "output_type": "execute_result"
    }
   ],
   "source": [
    "ventas_febrero = np.random.randint(100,500,3)\n",
    "ventas_febrero"
   ]
  },
  {
   "cell_type": "code",
   "execution_count": 18,
   "id": "4ab62daa-9a5f-4fd3-b103-71f57c55092d",
   "metadata": {},
   "outputs": [
    {
     "data": {
      "text/plain": [
       "array([492, 185, 186])"
      ]
     },
     "execution_count": 18,
     "metadata": {},
     "output_type": "execute_result"
    }
   ],
   "source": [
    "ventas_marzo = np.random.randint(100,500,3)\n",
    "ventas_marzo"
   ]
  },
  {
   "cell_type": "code",
   "execution_count": 19,
   "id": "2d747d17-03a1-4f4f-9991-defbf90ecd53",
   "metadata": {},
   "outputs": [],
   "source": [
    "filas = \"ventas_enero\", \"ventas_febrero\", \"ventas_marzo\""
   ]
  },
  {
   "cell_type": "code",
   "execution_count": 20,
   "id": "ffb2c414-a5b1-473f-883b-9dff8341bf56",
   "metadata": {},
   "outputs": [],
   "source": [
    "columnas = \"oficina1\", \"oficina2\", \"oficina3\""
   ]
  },
  {
   "cell_type": "code",
   "execution_count": 22,
   "id": "0c19d0c1-df12-4643-bdd4-a5977ec90a28",
   "metadata": {},
   "outputs": [
    {
     "data": {
      "text/plain": [
       "[array([346, 219, 427]), array([202, 485, 366]), array([492, 185, 186])]"
      ]
     },
     "execution_count": 22,
     "metadata": {},
     "output_type": "execute_result"
    }
   ],
   "source": [
    "ventas = [ventas_enero, ventas_febrero, ventas_marzo]\n",
    "ventas"
   ]
  },
  {
   "cell_type": "code",
   "execution_count": 23,
   "id": "c7423311-db3e-4feb-b5b3-23cd6f507dba",
   "metadata": {},
   "outputs": [
    {
     "data": {
      "text/html": [
       "<div>\n",
       "<style scoped>\n",
       "    .dataframe tbody tr th:only-of-type {\n",
       "        vertical-align: middle;\n",
       "    }\n",
       "\n",
       "    .dataframe tbody tr th {\n",
       "        vertical-align: top;\n",
       "    }\n",
       "\n",
       "    .dataframe thead th {\n",
       "        text-align: right;\n",
       "    }\n",
       "</style>\n",
       "<table border=\"1\" class=\"dataframe\">\n",
       "  <thead>\n",
       "    <tr style=\"text-align: right;\">\n",
       "      <th></th>\n",
       "      <th>oficina1</th>\n",
       "      <th>oficina2</th>\n",
       "      <th>oficina3</th>\n",
       "    </tr>\n",
       "  </thead>\n",
       "  <tbody>\n",
       "    <tr>\n",
       "      <th>ventas_enero</th>\n",
       "      <td>346</td>\n",
       "      <td>219</td>\n",
       "      <td>427</td>\n",
       "    </tr>\n",
       "    <tr>\n",
       "      <th>ventas_febrero</th>\n",
       "      <td>202</td>\n",
       "      <td>485</td>\n",
       "      <td>366</td>\n",
       "    </tr>\n",
       "    <tr>\n",
       "      <th>ventas_marzo</th>\n",
       "      <td>492</td>\n",
       "      <td>185</td>\n",
       "      <td>186</td>\n",
       "    </tr>\n",
       "  </tbody>\n",
       "</table>\n",
       "</div>"
      ],
      "text/plain": [
       "                oficina1  oficina2  oficina3\n",
       "ventas_enero         346       219       427\n",
       "ventas_febrero       202       485       366\n",
       "ventas_marzo         492       185       186"
      ]
     },
     "execution_count": 23,
     "metadata": {},
     "output_type": "execute_result"
    }
   ],
   "source": [
    "dataframe= pd.DataFrame(ventas, filas, columnas)\n",
    "dataframe"
   ]
  },
  {
   "cell_type": "code",
   "execution_count": 28,
   "id": "c8a3d43e-0817-410f-b2d7-87b5f962a7b2",
   "metadata": {},
   "outputs": [
    {
     "name": "stdout",
     "output_type": "stream",
     "text": [
      "Las ventas de enero para la oficina 1 son: 346\n"
     ]
    }
   ],
   "source": [
    "print (\"Las ventas de enero para la oficina 1 son: {}\".format(dataframe['oficina1']['ventas_enero']))"
   ]
  },
  {
   "cell_type": "code",
   "execution_count": 31,
   "id": "73875383-a3a0-42fc-8cb7-f412cc74d318",
   "metadata": {},
   "outputs": [
    {
     "name": "stdout",
     "output_type": "stream",
     "text": [
      "    nombre  edad  calificaciones\n",
      "0    Alice  20.0            90.0\n",
      "1      Bob  91.0            88.0\n",
      "2  Charlie  18.0            91.0\n",
      "3    David  25.0            91.0\n",
      "4      Eve  91.0            95.0\n"
     ]
    }
   ],
   "source": [
    "import pandas as pd\n",
    "\n",
    "def rellenar_con_media(dataframe, columna):\n",
    "    media = dataframe[columna].mean()\n",
    "    resultado = dataframe.fillna(media)\n",
    "    return resultado\n",
    "    \n",
    "data = {\n",
    "    'nombre': ['Alice', 'Bob', 'Charlie', 'David', 'Eve'],\n",
    "    'edad': [20, None, 18, 25, None],\n",
    "    'calificaciones': [90, 88, None, None, 95]\n",
    "}\n",
    " \n",
    "df = pd.DataFrame(data)\n",
    "columna = 'calificaciones'\n",
    " \n",
    "resultado = rellenar_con_media(df, columna)\n",
    "print(resultado)"
   ]
  },
  {
   "cell_type": "code",
   "execution_count": null,
   "id": "13025148-5fec-441c-b68d-e6bd0920457d",
   "metadata": {},
   "outputs": [],
   "source": []
  }
 ],
 "metadata": {
  "kernelspec": {
   "display_name": "Python 3 (ipykernel)",
   "language": "python",
   "name": "python3"
  },
  "language_info": {
   "codemirror_mode": {
    "name": "ipython",
    "version": 3
   },
   "file_extension": ".py",
   "mimetype": "text/x-python",
   "name": "python",
   "nbconvert_exporter": "python",
   "pygments_lexer": "ipython3",
   "version": "3.12.4"
  }
 },
 "nbformat": 4,
 "nbformat_minor": 5
}
