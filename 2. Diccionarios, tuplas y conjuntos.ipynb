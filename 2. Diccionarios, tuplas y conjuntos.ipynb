{
 "cells": [
  {
   "cell_type": "markdown",
   "id": "91cbb4f3-bc5f-444c-beb5-272ae408e72b",
   "metadata": {},
   "source": [
    "Diccionarios: Un diccionario es un conjunto de elementos clave:valor no ordenados"
   ]
  },
  {
   "cell_type": "code",
   "execution_count": 1,
   "id": "38aa0903-a81a-40ac-b3a8-5eee4fdc5ab0",
   "metadata": {},
   "outputs": [],
   "source": [
    "\n",
    "diccionario = {\"clave1\":\"val1\", \"clave2\":\"val2\", \"clave3\":\"val3\"}"
   ]
  },
  {
   "cell_type": "code",
   "execution_count": 3,
   "id": "008df136-85c8-4634-abaa-2e15d2b05b41",
   "metadata": {},
   "outputs": [
    {
     "data": {
      "text/plain": [
       "'val1'"
      ]
     },
     "execution_count": 3,
     "metadata": {},
     "output_type": "execute_result"
    }
   ],
   "source": [
    "#para ver el valor de la clave1:\n",
    "diccionario['clave1']"
   ]
  },
  {
   "cell_type": "code",
   "execution_count": 4,
   "id": "6bae25aa-7dfe-49e4-9015-6649eb794fb1",
   "metadata": {},
   "outputs": [
    {
     "data": {
      "text/plain": [
       "'progranadora'"
      ]
     },
     "execution_count": 4,
     "metadata": {},
     "output_type": "execute_result"
    }
   ],
   "source": [
    "diccionario1 = {'nombre':'Tamara', 'edad':30, 'profesion': 'progranadora'}\n",
    "diccionario1['profesion']"
   ]
  },
  {
   "cell_type": "markdown",
   "id": "b4e128bf-4ef8-424e-9220-cee96c9ce505",
   "metadata": {},
   "source": [
    "Tuplas: una tupla es una colección de elementos inalterables, es decir, que no se pueden modificar. Va entre parénteis"
   ]
  },
  {
   "cell_type": "code",
   "execution_count": 5,
   "id": "a40d0b3a-3d3f-4730-9b83-4c2b7f491792",
   "metadata": {},
   "outputs": [],
   "source": [
    "tupla = (1, 2, 3, 4)"
   ]
  },
  {
   "cell_type": "code",
   "execution_count": 6,
   "id": "5003658b-b524-42ed-8231-f1139381d4e6",
   "metadata": {},
   "outputs": [
    {
     "data": {
      "text/plain": [
       "(1, 2, 3, 4)"
      ]
     },
     "execution_count": 6,
     "metadata": {},
     "output_type": "execute_result"
    }
   ],
   "source": [
    "tupla"
   ]
  },
  {
   "cell_type": "code",
   "execution_count": 7,
   "id": "20f513ee-0fae-4a0b-8536-b8ead8907879",
   "metadata": {},
   "outputs": [
    {
     "ename": "TypeError",
     "evalue": "'tuple' object does not support item assignment",
     "output_type": "error",
     "traceback": [
      "\u001b[1;31m---------------------------------------------------------------------------\u001b[0m",
      "\u001b[1;31mTypeError\u001b[0m                                 Traceback (most recent call last)",
      "Cell \u001b[1;32mIn[7], line 2\u001b[0m\n\u001b[0;32m      1\u001b[0m \u001b[38;5;66;03m#Si queremos modificsr el primer elemento noos da un error, xq no se puede modificar\u001b[39;00m\n\u001b[1;32m----> 2\u001b[0m tupla[\u001b[38;5;241m0\u001b[39m]\u001b[38;5;241m=\u001b[39m \u001b[38;5;241m3\u001b[39m\n",
      "\u001b[1;31mTypeError\u001b[0m: 'tuple' object does not support item assignment"
     ]
    }
   ],
   "source": [
    "#Si queremos modificsr el primer elemento noos da un error, xq no se puede modificar\n",
    "tupla[0]= 3"
   ]
  },
  {
   "cell_type": "code",
   "execution_count": 8,
   "id": "09e637c3-5ea3-4f14-9f58-953509634634",
   "metadata": {},
   "outputs": [
    {
     "data": {
      "text/plain": [
       "1"
      ]
     },
     "execution_count": 8,
     "metadata": {},
     "output_type": "execute_result"
    }
   ],
   "source": [
    "tupla[0]"
   ]
  },
  {
   "cell_type": "code",
   "execution_count": 9,
   "id": "e6df3a00-ec88-48eb-b19e-f3235489eb3b",
   "metadata": {},
   "outputs": [
    {
     "data": {
      "text/plain": [
       "4"
      ]
     },
     "execution_count": 9,
     "metadata": {},
     "output_type": "execute_result"
    }
   ],
   "source": [
    "tupla[-1]"
   ]
  },
  {
   "cell_type": "markdown",
   "id": "7307f2ab-2c6f-4859-88a4-dcad070cadda",
   "metadata": {},
   "source": [
    "Conjuntos: colección de elementos únicos (no se pueden repetir los elementos). Van entre llaves"
   ]
  },
  {
   "cell_type": "code",
   "execution_count": 11,
   "id": "62980e2b-6422-4d8c-b194-abdb3a8e93f4",
   "metadata": {},
   "outputs": [
    {
     "data": {
      "text/plain": [
       "{1, 2, 3, 4}"
      ]
     },
     "execution_count": 11,
     "metadata": {},
     "output_type": "execute_result"
    }
   ],
   "source": [
    "conjunto = {1, 2, 3, 4}\n",
    "conjunto"
   ]
  },
  {
   "cell_type": "code",
   "execution_count": 12,
   "id": "8582dc87-0d64-4ece-a5c2-afbe514f85e6",
   "metadata": {},
   "outputs": [
    {
     "data": {
      "text/plain": [
       "{1, 2, 4, 5, 6, 7, 8}"
      ]
     },
     "execution_count": 12,
     "metadata": {},
     "output_type": "execute_result"
    }
   ],
   "source": [
    "#Aqui podemos ver como elimina los elementos duplicados\n",
    "conj2 = {1, 1, 2, 4, 5, 4, 6, 7, 8}\n",
    "conj2"
   ]
  },
  {
   "cell_type": "code",
   "execution_count": 19,
   "id": "1729dde0-465f-4d8f-9108-a48b1fe3b16c",
   "metadata": {},
   "outputs": [],
   "source": [
    "#Podemos creear un conjunto a través ded una lista\n",
    "lista1 = [1,2,3,4,4,6,5,6]\n",
    "conj1 = set(lista1)"
   ]
  },
  {
   "cell_type": "code",
   "execution_count": 20,
   "id": "270a93fb-69a8-40bc-9d67-e050138f04fc",
   "metadata": {},
   "outputs": [
    {
     "data": {
      "text/plain": [
       "{1, 2, 3, 4, 5, 6}"
      ]
     },
     "execution_count": 20,
     "metadata": {},
     "output_type": "execute_result"
    }
   ],
   "source": [
    "conj1"
   ]
  },
  {
   "cell_type": "code",
   "execution_count": 21,
   "id": "e765a9ed-28c1-4182-b332-72c952765a7d",
   "metadata": {},
   "outputs": [
    {
     "data": {
      "text/plain": [
       "[1, 2, 3, 4, 4, 6, 5, 6]"
      ]
     },
     "execution_count": 21,
     "metadata": {},
     "output_type": "execute_result"
    }
   ],
   "source": [
    "lista1"
   ]
  },
  {
   "cell_type": "code",
   "execution_count": null,
   "id": "be3f622b-0730-4f1b-9f2b-bbb1f1d39ec8",
   "metadata": {},
   "outputs": [],
   "source": []
  }
 ],
 "metadata": {
  "kernelspec": {
   "display_name": "Python 3 (ipykernel)",
   "language": "python",
   "name": "python3"
  },
  "language_info": {
   "codemirror_mode": {
    "name": "ipython",
    "version": 3
   },
   "file_extension": ".py",
   "mimetype": "text/x-python",
   "name": "python",
   "nbconvert_exporter": "python",
   "pygments_lexer": "ipython3",
   "version": "3.12.4"
  }
 },
 "nbformat": 4,
 "nbformat_minor": 5
}
