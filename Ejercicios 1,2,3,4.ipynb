{
 "cells": [
  {
   "cell_type": "markdown",
   "id": "917d622a-5e29-4e58-a6f7-ed7c22362be7",
   "metadata": {},
   "source": [
    "Dada la siguiente frase, divide la frase en palabras y cuenta el nº de palabras que contiene esa frase.Muestra el resultado\n",
    "mediante print de esta forma: El número de palabras es:...\n",
    "frase: Hola, este es un curso básico de Python"
   ]
  },
  {
   "cell_type": "code",
   "execution_count": 7,
   "id": "1dffeba4-a329-47fd-aeae-ac79e224fda9",
   "metadata": {},
   "outputs": [
    {
     "data": {
      "text/plain": [
       "['Hola,', 'este', 'es', 'un', 'curso', 'básico', 'de', 'Python']"
      ]
     },
     "execution_count": 7,
     "metadata": {},
     "output_type": "execute_result"
    }
   ],
   "source": [
    "cadena = \"Hola, este es un curso básico de Python\"\n",
    "palabras = cadena.split()\n",
    "palabras"
   ]
  },
  {
   "cell_type": "code",
   "execution_count": 9,
   "id": "6124a880-f1b0-4f38-b438-a456695ef0fd",
   "metadata": {},
   "outputs": [],
   "source": [
    "num = 0\n",
    "for palabra in palabras:\n",
    "    num = num+1"
   ]
  },
  {
   "cell_type": "code",
   "execution_count": 12,
   "id": "5e99d62d-29c0-4018-b936-7a8cc6cd8d1f",
   "metadata": {},
   "outputs": [
    {
     "name": "stdout",
     "output_type": "stream",
     "text": [
      "El número de palabras de la cadena es: 8.\n"
     ]
    }
   ],
   "source": [
    "print (\"El número de palabras de la cadena es: {}.\".format(num))"
   ]
  },
  {
   "cell_type": "markdown",
   "id": "abd70b2c-f1a6-443e-919c-2e5cb1f88250",
   "metadata": {},
   "source": [
    "Dada la siguiente lista:\n",
    "    lista =[1,-1,4,-15,9,7,6,-3,2,-20]\n",
    "Cree una función positivo que pasando como parámetro un número lo devuelva tal cual si es positivo, o no devuelva nada si el número es negativo.\n",
    "Crea una nueva lista (lista2) que mediante filter contenga solo los nº positivos de la lista anterior"
   ]
  },
  {
   "cell_type": "code",
   "execution_count": 19,
   "id": "74011ca3-0fca-46c2-8816-f1f16de201fa",
   "metadata": {},
   "outputs": [],
   "source": [
    "lista =[1,-1,4,-15,9,7,6,-3,2,-20] \n",
    "def positivo (numero):\n",
    "    if (numero >=0):\n",
    "        return numero"
   ]
  },
  {
   "cell_type": "code",
   "execution_count": 17,
   "id": "45b0691e-045f-4ef5-9183-289597e99c6e",
   "metadata": {},
   "outputs": [],
   "source": [
    "lista2 = list(filter(positivo, lista))"
   ]
  },
  {
   "cell_type": "code",
   "execution_count": 18,
   "id": "8aae1681-f8d5-4b4d-801e-7b9d1d50650f",
   "metadata": {},
   "outputs": [
    {
     "data": {
      "text/plain": [
       "[1, 4, 9, 7, 6, 2]"
      ]
     },
     "execution_count": 18,
     "metadata": {},
     "output_type": "execute_result"
    }
   ],
   "source": [
    "lista2"
   ]
  },
  {
   "cell_type": "markdown",
   "id": "11b59ba5-7b84-4a3d-b159-efa6b6d57673",
   "metadata": {},
   "source": [
    "Dada la siguiente lista de palabras: lista = [\"manzana\", \"platano\", \"melocoton\", \"pera\", \"manzana\", \"pera\", \"limon\", \"platano\", \"naranja\"]\n",
    "cree una nueva lista sin duplicados eliminando las palabras repetidas"
   ]
  },
  {
   "cell_type": "code",
   "execution_count": 22,
   "id": "a4955613-795f-431b-bc82-ef67bf1ddd75",
   "metadata": {},
   "outputs": [],
   "source": [
    "lista = [\"manzana\", \"platano\", \"melocoton\", \"pera\", \"manzana\", \"pera\", \"limon\", \"platano\", \"naranja\"]\n",
    "conj = set(lista)"
   ]
  },
  {
   "cell_type": "code",
   "execution_count": 23,
   "id": "d00d32e4-75d7-4cb0-bb0b-7ffc90a45e8e",
   "metadata": {},
   "outputs": [
    {
     "data": {
      "text/plain": [
       "{'limon', 'manzana', 'melocoton', 'naranja', 'pera', 'platano'}"
      ]
     },
     "execution_count": 23,
     "metadata": {},
     "output_type": "execute_result"
    }
   ],
   "source": [
    "conj"
   ]
  },
  {
   "cell_type": "code",
   "execution_count": 26,
   "id": "0e34d148-cc6b-4c02-b702-a67c022c53b1",
   "metadata": {},
   "outputs": [],
   "source": [
    "#Pasar el conjunto a lista:\n",
    "lista_sin_duplicados = []\n",
    "for palabra in conj:\n",
    "    lista_sin_duplicados.append(palabra)\n"
   ]
  },
  {
   "cell_type": "code",
   "execution_count": 27,
   "id": "814288c8-3186-4d3f-aad0-181fe071a3c9",
   "metadata": {},
   "outputs": [
    {
     "data": {
      "text/plain": [
       "['pera', 'melocoton', 'platano', 'manzana', 'naranja', 'limon']"
      ]
     },
     "execution_count": 27,
     "metadata": {},
     "output_type": "execute_result"
    }
   ],
   "source": [
    "lista_sin_duplicados"
   ]
  },
  {
   "cell_type": "markdown",
   "id": "a03d2bb4-263f-4543-8396-c5409e79bd01",
   "metadata": {},
   "source": [
    "Crear una función \"dividir entre 2\" que divide un nº entre el nº 2 y devuelve el resultado.\n",
    "Dada la siguiente lista: lista = [20,18,8,4,10,40,6]\n",
    "Crear una nueva lista \"lista2\" que mediante la función map aplique la función \"dividir_entre_dos\" a cada elemento de la lista"
   ]
  },
  {
   "cell_type": "code",
   "execution_count": 28,
   "id": "455acd63-d70e-4a1f-ad6c-8fb5ce5db1f3",
   "metadata": {},
   "outputs": [],
   "source": [
    "lista = [20,18,8,4,10,40,6]\n",
    "def dividir_entre_dos (numero):\n",
    "    return numero/2"
   ]
  },
  {
   "cell_type": "code",
   "execution_count": 29,
   "id": "74b37e4c-5439-43e8-84c8-9624b70c3df5",
   "metadata": {},
   "outputs": [
    {
     "data": {
      "text/plain": [
       "5.0"
      ]
     },
     "execution_count": 29,
     "metadata": {},
     "output_type": "execute_result"
    }
   ],
   "source": [
    "dividir_entre_dos(10)"
   ]
  },
  {
   "cell_type": "code",
   "execution_count": 30,
   "id": "9b4772bd-4e51-4242-9b2c-cf074838b65d",
   "metadata": {},
   "outputs": [
    {
     "data": {
      "text/plain": [
       "1.5"
      ]
     },
     "execution_count": 30,
     "metadata": {},
     "output_type": "execute_result"
    }
   ],
   "source": [
    "dividir_entre_dos(3)"
   ]
  },
  {
   "cell_type": "code",
   "execution_count": 31,
   "id": "fcf2d44e-8080-4122-8d7e-a7abe651de18",
   "metadata": {},
   "outputs": [
    {
     "data": {
      "text/plain": [
       "[10.0, 9.0, 4.0, 2.0, 5.0, 20.0, 3.0]"
      ]
     },
     "execution_count": 31,
     "metadata": {},
     "output_type": "execute_result"
    }
   ],
   "source": [
    "lista2 = list(map(dividir_entre_dos, lista))\n",
    "lista2"
   ]
  },
  {
   "cell_type": "code",
   "execution_count": null,
   "id": "7fd3d6cf-1934-464b-9f55-06b60e077199",
   "metadata": {},
   "outputs": [],
   "source": []
  }
 ],
 "metadata": {
  "kernelspec": {
   "display_name": "Python 3 (ipykernel)",
   "language": "python",
   "name": "python3"
  },
  "language_info": {
   "codemirror_mode": {
    "name": "ipython",
    "version": 3
   },
   "file_extension": ".py",
   "mimetype": "text/x-python",
   "name": "python",
   "nbconvert_exporter": "python",
   "pygments_lexer": "ipython3",
   "version": "3.12.4"
  }
 },
 "nbformat": 4,
 "nbformat_minor": 5
}
